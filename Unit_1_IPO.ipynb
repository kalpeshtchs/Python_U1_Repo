{
 "cells": [
  {
   "cell_type": "markdown",
   "source": [
    "# Input Processing Output\n",
    "\n",
    "# Python Commands for Input \n",
    "\n",
    "# input(\"Statement indicating what to input: \")\n",
    "\n",
    "# when using 'input' statement you need to assign the 'inputted' value to a variable, \n",
    "# so your statement would be :\n",
    "# <variable> = input(\"Statement indicating what to input: \")\n"
   ],
   "metadata": {
    "collapsed": false
   },
   "id": "e77635ae5fcda2cf"
  },
  {
   "cell_type": "code",
   "execution_count": 1,
   "outputs": [],
   "source": [
    "# following command for input\n",
    "firstname = input(\"Enter your first name: \")\n"
   ],
   "metadata": {
    "collapsed": false,
    "ExecuteTime": {
     "end_time": "2023-10-06T17:09:26.813920200Z",
     "start_time": "2023-10-06T17:09:19.556229300Z"
    }
   },
   "id": "77cf815b063ef295"
  },
  {
   "cell_type": "markdown",
   "source": [
    "# input values can be integers, floats, strings, boolean\n",
    "# in order to have the correct datatype for a variable we need to \n",
    "# convert the input to the datatype.  By default (without specifying the datatype)\n",
    "# the datatype for input is a string.\n",
    "\n",
    "# <variable> = <datatype>(input(\"Statement indicating what to input: \")\n"
   ],
   "metadata": {
    "collapsed": false
   },
   "id": "4a88e234b1994d4e"
  },
  {
   "cell_type": "code",
   "execution_count": null,
   "outputs": [],
   "source": [
    "salary = float(input(\"Enter your salary with decimals: \"))\n"
   ],
   "metadata": {
    "collapsed": false
   },
   "id": "1930fdf939fa1550"
  },
  {
   "cell_type": "markdown",
   "source": [
    "# any variable that needs to outputted to the terminal needs a python command.\n",
    "# print(<name of variable>) is the python command to output a value to the terminal\n"
   ],
   "metadata": {
    "collapsed": false
   },
   "id": "e23b35ad5a5eabfe"
  },
  {
   "cell_type": "code",
   "execution_count": null,
   "outputs": [],
   "source": [
    "# outputting a variable to the terminal\n",
    "firstname = 'john'\n",
    "\n",
    "print(firstname)"
   ],
   "metadata": {
    "collapsed": false
   },
   "id": "463d8296850ffb7e"
  },
  {
   "cell_type": "markdown",
   "source": [
    "# in order to print a variable to the screen we can also print string statements\n",
    "# along with the variable value.\n",
    "# print(\"some statement\",<variable>)\n"
   ],
   "metadata": {
    "collapsed": false
   },
   "id": "1b35e1151379c15d"
  },
  {
   "cell_type": "code",
   "execution_count": null,
   "outputs": [],
   "source": [
    "lastname = 'johnson'\n",
    "\n",
    "print(\"my last name is:\",lastname)\n",
    "print(lastname, \"is my last name\")\n",
    "print(\"My last name is\" , lastname , \"its a pretty comman name\")"
   ],
   "metadata": {
    "collapsed": false
   },
   "id": "bf306a20adae9c31"
  },
  {
   "cell_type": "code",
   "execution_count": null,
   "outputs": [],
   "source": [],
   "metadata": {
    "collapsed": false
   },
   "id": "d58d5129197dad56"
  }
 ],
 "metadata": {
  "kernelspec": {
   "display_name": "Python 3",
   "language": "python",
   "name": "python3"
  },
  "language_info": {
   "codemirror_mode": {
    "name": "ipython",
    "version": 2
   },
   "file_extension": ".py",
   "mimetype": "text/x-python",
   "name": "python",
   "nbconvert_exporter": "python",
   "pygments_lexer": "ipython2",
   "version": "2.7.6"
  }
 },
 "nbformat": 4,
 "nbformat_minor": 5
}
